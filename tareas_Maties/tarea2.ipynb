{
 "cells": [
  {
   "cell_type": "markdown",
   "metadata": {},
   "source": [
    "# Tarea 2\n",
    "\n",
    "### Pregunta 1. Escribe una secuencia de instrucciones que permitan leer un número real por pantalla y que muestre si el número es positivo o no."
   ]
  },
  {
   "cell_type": "code",
   "execution_count": 53,
   "metadata": {},
   "outputs": [
    {
     "name": "stdout",
     "output_type": "stream",
     "text": [
      "Introduce aquí un número real: 0\n",
      "El número introducido es 0\n"
     ]
    }
   ],
   "source": [
    "numero = float(input(\"Introduce aquí un número real: \"))\n",
    "if numero>0:\n",
    "    print(\"El número introducido es positivo\")\n",
    "if numero<0:\n",
    "    print(\"El número introducido es negativo\")\n",
    "if numero==0:\n",
    "    print(\"El número introducido es 0\")"
   ]
  },
  {
   "cell_type": "markdown",
   "metadata": {},
   "source": [
    "### Pregunta 2. Escribe una secuencia de instrucciones que permitan leer un número real por pantalla y que muestre si el número está en el rango entre -5 y 5"
   ]
  },
  {
   "cell_type": "code",
   "execution_count": 55,
   "metadata": {},
   "outputs": [
    {
     "name": "stdout",
     "output_type": "stream",
     "text": [
      "Introduce aquí un número real: 27\n",
      "El número introducido se encuentra fuera del rango [-5, 5]\n"
     ]
    }
   ],
   "source": [
    "numero = float(input(\"Introduce aquí un número real: \"))\n",
    "if numero>=-5 and numero<=5:\n",
    "    print(\"El número introducido se encuentra dentro del rango [-5, 5]\")\n",
    "else:\n",
    "    print(\"El número introducido se encuentra fuera del rango [-5, 5]\")"
   ]
  },
  {
   "cell_type": "markdown",
   "metadata": {},
   "source": [
    "### Pregunta 3. Escribe una secuencia de instrucciones que permitan leer las coordenadas de un punto (x, y) e indique en cuál de los cuatro cuadrantes se encuentra dicho punto."
   ]
  },
  {
   "cell_type": "code",
   "execution_count": 65,
   "metadata": {},
   "outputs": [
    {
     "name": "stdout",
     "output_type": "stream",
     "text": [
      "Introduce aquí la coordenada x del punto: 0\n",
      "Introduce aquí la coordenada y del punto: 0\n",
      "El punto introducido se localiza sobre el origen de coordenadas\n"
     ]
    }
   ],
   "source": [
    "x = float(input(\"Introduce aquí la coordenada x del punto: \"))\n",
    "y = float(input(\"Introduce aquí la coordenada y del punto: \"))\n",
    "if x>0 and y>0:\n",
    "    print(\"El punto introducido se localiza en el primer cuadrante\")\n",
    "if x>0 and y<0:\n",
    "    print(\"El punto introducido se localiza en el segundo cuadrante\")\n",
    "if x<0 and y<0:\n",
    "    print(\"El punto introducido se localiza en el tercer cuadrante\")\n",
    "if x<0 and y>0:\n",
    "    print(\"El punto introducido se localiza en el cuarto cuadrante\")\n",
    "if x==0 and y!=0:\n",
    "    print(\"El punto introducido se localiza sobre el eje de ordenadas\")\n",
    "if x!=0 and y==0:\n",
    "    print(\"El punto introducido se localiza sobre el eje de coordenadas\")\n",
    "if x==0 and y==0:\n",
    "    print(\"El punto introducido se localiza sobre el origen de coordenadas\")"
   ]
  },
  {
   "cell_type": "markdown",
   "metadata": {},
   "source": [
    "### Pregunta 4. Escribe una secuencia de instrucciones que permitan leer dos números enteros y muestre el cociente de la división entera y el resto."
   ]
  },
  {
   "cell_type": "code",
   "execution_count": 1,
   "metadata": {},
   "outputs": [
    {
     "name": "stdout",
     "output_type": "stream",
     "text": [
      "División de dos números enteros\n",
      "Introduce aquí el dividendo (número entero): 3\n",
      "Introduce aquí el divisor (número entero): 1\n",
      "El cociente es: 3\n",
      "El resto es: 0.0\n"
     ]
    }
   ],
   "source": [
    "import math\n",
    "print(\"División de dos números enteros\")\n",
    "x = int(input(\"Introduce aquí el dividendo (número entero): \"))\n",
    "y = int(input(\"Introduce aquí el divisor (número entero): \"))\n",
    "print(\"El cociente es: \"+str(x//y))\n",
    "print(\"El resto es: \"+str(math.fmod(x,y)))"
   ]
  },
  {
   "cell_type": "markdown",
   "metadata": {},
   "source": [
    "### Pregunta 5. Escribe una secuencia de instrucciones que permitan leer si un número entero es cuadrado perfecto o no (piensa la mejor forma de hacerlo con lo que has aprendido hasta ahora)"
   ]
  },
  {
   "cell_type": "code",
   "execution_count": 79,
   "metadata": {},
   "outputs": [
    {
     "name": "stdout",
     "output_type": "stream",
     "text": [
      "Introduce aquí un número entero: 25\n",
      "La raíz cuadrada del número introducido es: 5.0\n",
      "El número introducido es un cuadrado perfecto\n"
     ]
    }
   ],
   "source": [
    "x = int(input(\"Introduce aquí un número entero: \"))\n",
    "print(\"La raíz cuadrada del número introducido es: \"+str(math.sqrt(x)))\n",
    "if math.fmod(math.sqrt(x),1)==0:\n",
    "    print(\"El número introducido es un cuadrado perfecto\")\n",
    "else:\n",
    "    print(\"El número introducido no es un cuadrado perfecto\")"
   ]
  },
  {
   "cell_type": "markdown",
   "metadata": {},
   "source": [
    "### Pregunta 6. Escribe una expresión que permita determinar si un número entero positivo puede corresponder a un año bisiesto o no. Se consideran años bisiestos aquellos cuyo número es divisible por cuatro excepto los años que son múltiplos de 100, a no ser que lo sean de 400 (por ejemplo el año 2000 fue bisiesto pero el 2100 no lo será)."
   ]
  },
  {
   "cell_type": "code",
   "execution_count": 50,
   "metadata": {},
   "outputs": [
    {
     "name": "stdout",
     "output_type": "stream",
     "text": [
      "Introduce aquí un año: 2000\n",
      "El año introducido es bisiesto\n"
     ]
    }
   ],
   "source": [
    "x = int(input(\"Introduce aquí un año: \"))\n",
    "if (math.fmod(x,4)==0 and math.fmod(x,100)!=0) or (math.fmod(x,4)==0 and math.fmod(x,400)==0):\n",
    "    print(\"El año introducido es bisiesto\")\n",
    "else:\n",
    "    print(\"El año introducido no es bisiesto\")"
   ]
  },
  {
   "cell_type": "markdown",
   "metadata": {},
   "source": [
    "### Pregunta 7. Busca la imagen de un tablero de ajedrez en Google y fíjate en la nomenclatura de las casillas. Escribe una expresión lea una letra y un número de teclado correspondiente a una casilla de un tablero de ajedrez y nos indique si esta casilla es negra o blanca."
   ]
  },
  {
   "cell_type": "code",
   "execution_count": 77,
   "metadata": {},
   "outputs": [
    {
     "name": "stdout",
     "output_type": "stream",
     "text": [
      "Color de las casillas del ajedrez\n",
      "Introduce aquí la letra correspondiente a la casilla: h\n",
      "Introduce aquí el número correspondiente a la casilla: 2\n",
      "La casilla elegida es la: h2\n",
      "La casilla elegida es de color negro\n"
     ]
    }
   ],
   "source": [
    "print(\"Color de las casillas del ajedrez\")\n",
    "x = input(\"Introduce aquí la letra correspondiente a la casilla: \")\n",
    "y = int(input(\"Introduce aquí el número correspondiente a la casilla: \"))\n",
    "print(\"La casilla elegida es la: \"+x+str(y))\n",
    "if (x==\"a\" and math.fmod(y,2)==0) or (x==\"c\" and math.fmod(y,2)==0) or (x==\"e\" and math.fmod(y,2)==0) or (x==\"g\" and math.fmod(y,2)==0) or (x==\"b\" and math.fmod(y,2)!=0) or (x==\"d\" and math.fmod(y,2)!=0) or (x==\"f\" and math.fmod(y,2)!=0) or (x==\"h\" and math.fmod(y,2)!=0):\n",
    "    print(\"La casilla elegida es de color blanco\")\n",
    "else:\n",
    "    print(\"La casilla elegida es de color negro\")"
   ]
  }
 ],
 "metadata": {
  "kernelspec": {
   "display_name": "Python 3",
   "language": "python",
   "name": "python3"
  },
  "language_info": {
   "codemirror_mode": {
    "name": "ipython",
    "version": 3
   },
   "file_extension": ".py",
   "mimetype": "text/x-python",
   "name": "python",
   "nbconvert_exporter": "python",
   "pygments_lexer": "ipython3",
   "version": "3.7.3"
  }
 },
 "nbformat": 4,
 "nbformat_minor": 2
}
